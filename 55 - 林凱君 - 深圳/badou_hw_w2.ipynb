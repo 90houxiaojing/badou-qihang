{
 "cells": [
  {
   "cell_type": "markdown",
   "metadata": {},
   "source": [
    "# CosineDimilarity\n",
    "![Image](https://i.imgur.com/1BasbKu.png)"
   ]
  },
  {
   "cell_type": "code",
   "execution_count": 48,
   "metadata": {},
   "outputs": [],
   "source": [
    "vecA = list(np.random.rand(5))\n",
    "vecB = list(np.random.rand(5))"
   ]
  },
  {
   "cell_type": "code",
   "execution_count": 50,
   "metadata": {},
   "outputs": [
    {
     "data": {
      "text/plain": [
       "0.9195332998868553"
      ]
     },
     "execution_count": 50,
     "metadata": {},
     "output_type": "execute_result"
    }
   ],
   "source": [
    "\n",
    "def CosineSimilarity(A,B):\n",
    "    dot = 0\n",
    "    normA = 0\n",
    "    normB = 0\n",
    "    for a,b in zip(A,B):\n",
    "        dot += a*b\n",
    "        normA += a*a\n",
    "        normB += b*b\n",
    "    return dot/((normA**0.5)*(normB**0.5))\n",
    "    \n",
    "    \n",
    "CosineSimilarity(vecA,vecB)"
   ]
  },
  {
   "cell_type": "code",
   "execution_count": 49,
   "metadata": {},
   "outputs": [
    {
     "data": {
      "text/plain": [
       "array([[0.9195333]])"
      ]
     },
     "execution_count": 49,
     "metadata": {},
     "output_type": "execute_result"
    }
   ],
   "source": [
    "## SKlearn \n",
    "import numpy as np\n",
    "from sklearn.metrics.pairwise import cosine_similarity\n",
    "cosine_similarity(np.array(vecA).reshape(1,-1),np.array(vecB).reshape(1,-1))"
   ]
  },
  {
   "cell_type": "markdown",
   "metadata": {},
   "source": [
    "# Batch Normalization\n",
    "![Image](https://i.imgur.com/PPDpMGQ.png)"
   ]
  },
  {
   "cell_type": "code",
   "execution_count": 51,
   "metadata": {},
   "outputs": [
    {
     "name": "stdout",
     "output_type": "stream",
     "text": [
      "torch batch normalization tensor([[ 0.2549, -0.1932, -0.9087, -0.7605, -1.5051, -0.1887,  0.8206, -0.3828],\n",
      "        [-0.6210, -0.0228,  0.5370, -0.1806,  0.4119, -0.5304,  0.0780, -0.1317],\n",
      "        [ 0.0443,  0.1762,  0.4942,  0.3274,  0.8587,  1.2400, -0.2984,  0.8707],\n",
      "        [ 0.3217,  0.0398, -0.1224,  0.6136,  0.2345, -0.5209, -0.6002, -0.3562]],\n",
      "       grad_fn=<NativeBatchNormBackward>)\n",
      "batch normalization DIY [[ 0.2549351  -0.19321828 -0.90874076 -0.76048464 -1.5050853  -0.1886768\n",
      "   0.82056826 -0.38279945]\n",
      " [-0.62099856 -0.02279574  0.53699845 -0.18055452  0.41187543 -0.53042406\n",
      "   0.0779973  -0.13172838]\n",
      " [ 0.0443243   0.17622846  0.49415377  0.32742822  0.8586671   1.2400501\n",
      "  -0.298359    0.8707016 ]\n",
      " [ 0.3217392   0.03978552 -0.12241151  0.613611    0.23454262 -0.52094924\n",
      "  -0.6002064  -0.35617378]]\n"
     ]
    }
   ],
   "source": [
    "import numpy as np\n",
    "import torch\n",
    "## batch size = 3 , data size = 10\n",
    "\n",
    "\n",
    "x = torch.randn(4, 8)\n",
    "bn = torch.nn.BatchNorm1d(8)\n",
    "y = bn(x)\n",
    "\n",
    "print(\"torch batch normalization\",y)\n",
    "\n",
    "\n",
    "## batch normalization DIY\n",
    "x = x.numpy()\n",
    "w = bn.state_dict()[\"weight\"].numpy()\n",
    "b = bn.state_dict()[\"bias\"].numpy()\n",
    "\n",
    "x = (x - np.mean(x,axis=0)) / np.sqrt(np.var(x,axis=0)+1e-5)\n",
    "y = w*x+b\n",
    "\n",
    "print(\"batch normalization DIY\",y)\n"
   ]
  },
  {
   "cell_type": "code",
   "execution_count": null,
   "metadata": {},
   "outputs": [],
   "source": []
  },
  {
   "cell_type": "code",
   "execution_count": null,
   "metadata": {},
   "outputs": [],
   "source": []
  }
 ],
 "metadata": {
  "kernelspec": {
   "display_name": "Python 3",
   "language": "python",
   "name": "python3"
  },
  "language_info": {
   "codemirror_mode": {
    "name": "ipython",
    "version": 3
   },
   "file_extension": ".py",
   "mimetype": "text/x-python",
   "name": "python",
   "nbconvert_exporter": "python",
   "pygments_lexer": "ipython3",
   "version": "3.6.12"
  }
 },
 "nbformat": 4,
 "nbformat_minor": 4
}
