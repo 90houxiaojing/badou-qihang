{
 "cells": [
  {
   "cell_type": "code",
   "execution_count": 3,
   "metadata": {
    "collapsed": true
   },
   "outputs": [],
   "source": [
    "import numpy as np\n",
    "# help(np.linalg.norm)"
   ]
  },
  {
   "cell_type": "code",
   "execution_count": 25,
   "metadata": {},
   "outputs": [
    {
     "name": "stdout",
     "output_type": "stream",
     "text": [
      "[0 2 4 6 8] [1 3 5 7 9]\n0.9949366763261819\n"
     ]
    }
   ],
   "source": [
    "def cal_Cosine_Similarity(x,y):\n",
    "    print(x,y)\n",
    "    # x = np.linalg.norm(x,ord=2,)\n",
    "    return np.dot(x,y.T)/(np.linalg.norm(x,ord=2,)*np.linalg.norm(y,ord=2,))\n",
    "\n",
    "x = np.arange(0,10,2)\n",
    "y = np.arange(1,11,2)\n",
    "out = cal_Cosine_Similarity(x,y)   \n",
    "print(out)"
   ]
  },
  {
   "cell_type": "markdown",
   "metadata": {},
   "source": [
    "# BN的计算过程：\n",
    "## 训练阶段\n",
    "![](./bn_train.jpg)\n",
    "\n",
    "## 测试阶段\n",
    "![](./bn_test.jpg)\n",
    "\n",
    "**本案例说明：**\n",
    "\n",
    "训练阶段：\n",
    "1.假设输入的数据的格式是4行3列，4行数据分别输入到4个神经元。每个神经元处理3个batch的数据。\n",
    "2.假定测试集和训练集具有同分布（均值、方差），在训练阶段需要计算训练集的均值和方差(采用滑动平均)。\n",
    "3.在全局训练数据中看每个batch，不同的batch可能分布偏差很大，这样网络不好拟合数据不太稳定(covariate shift)，\n",
    "需要捕捉到数据分布偏差的变化量，所以引入了伸缩因子γ和偏移因子β，这两个参数需要网络进行学习。\n",
    "\n",
    "测试阶段：\n",
    "输入的是一条条的数据\n",
    "\n",
    "refer:\n",
    "[Batch Normalization导读](https://blog.csdn.net/malefactor/article/details/51476961)"
   ]
  },
  {
   "cell_type": "code",
   "execution_count": null,
   "metadata": {},
   "outputs": [],
   "source": [
    "\n",
    "\n",
    "def cal_bn( data,fn_grad,static_args,flag,eps):\n",
    "    gamma = fn_grad[\"gamma\"]\n",
    "    beta = fn_grad[\"beta\"]\n",
    "    uB_momentum = static_args[\"uB_momentum\"]\n",
    "    varB_momentum = static_args[\"varB_momentum\"]\n",
    "    if flag == \"train\":\n",
    "        uB = np.mean(x, axis=1,keepdims=True)\n",
    "        varB = np.var(x, axis=1,keepdims=True)\n",
    "        uB_momentum = (1-momentum)*uB_momentum + momentum*uB\n",
    "        varB_momentum = (1-momentum)*varB_momentum + momentum*varB\n",
    "        x_ = (x - uB)/(np.sqrt(varB+eps))\n",
    "        y_ = gamma* x + beta\n",
    "        return y_\n",
    "    else:\n",
    "        y_ = (gamma * x)/(np.sqrt(varB_momentum+eps))-(beta-gamma*uB_momentum/(np.sqrt(varB_momentum+eps)))\n",
    "        return y_\n",
    "\n",
    "\n",
    "x = np.arange(0,12,1)\n",
    "x.shape = (4, 3) # 设batch为4\n",
    "print(x)\n",
    "eps =  0.0001   # 常量\n",
    "# 在测试时，输入的是单个数据，又假定测试集和训练集具有同分布（均值、方差）\n",
    "momentum = 0.1\n",
    "uB_momentum = np.array([[1.1],[2.2],[3.3],[2.2]])\n",
    "varB_momentum = np.array([[0.5],[0.75],[1.0],[1.5]])\n",
    "\n",
    "# 伸缩因子用于减少训练和测试之间分布差异\n",
    "gamma = np.array([[1.],[2.],[3.],[2.]])    # 需要学习的参数\n",
    "beta = np.array([[1.5],[2.5],[3.5],[2.5]]) # 需要学习的参数\n",
    "\n",
    "flag = \"train\" # 测试还是训练的标志位\n",
    "fn_grad = {\"gamma\":gamma,\"beta\":beta}   # 需要利用网络进行学习的参数\n",
    "static_args = {\"uB_momentum\":uB_momentum,\"varB_momentum\":varB_momentum}  # 需要在bn计算均值和方差时更新的参数\n",
    "result = cal_bn(x,fn_grad,static_args,flag,eps)\n",
    "print(result)"
   ]
  }
 ],
 "metadata": {
  "kernelspec": {
   "display_name": "Python 2",
   "language": "python",
   "name": "python2"
  },
  "language_info": {
   "codemirror_mode": {
    "name": "ipython",
    "version": 2
   },
   "file_extension": ".py",
   "mimetype": "text/x-python",
   "name": "python",
   "nbconvert_exporter": "python",
   "pygments_lexer": "ipython2",
   "version": "2.7.6"
  }
 },
 "nbformat": 4,
 "nbformat_minor": 0
}
