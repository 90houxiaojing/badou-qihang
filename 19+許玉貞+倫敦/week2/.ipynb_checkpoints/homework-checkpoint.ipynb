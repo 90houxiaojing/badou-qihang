{
 "cells": [
  {
   "cell_type": "code",
   "execution_count": 1,
   "metadata": {
    "ExecuteTime": {
     "end_time": "2021-04-21T13:42:58.796091Z",
     "start_time": "2021-04-21T13:42:58.448023Z"
    }
   },
   "outputs": [],
   "source": [
    "import numpy as np\n",
    "import torch"
   ]
  },
  {
   "cell_type": "markdown",
   "metadata": {},
   "source": [
    "# 餘弦相似性 (Cosine Similarity)\n",
    "![](https://neo4j.com/docs/graph-algorithms/current/images/cosine-similarity.png)"
   ]
  },
  {
   "cell_type": "code",
   "execution_count": 2,
   "metadata": {
    "ExecuteTime": {
     "end_time": "2021-04-21T13:42:58.800081Z",
     "start_time": "2021-04-21T13:42:58.797089Z"
    }
   },
   "outputs": [],
   "source": [
    "a = np.random.rand(10)\n",
    "b = np.random.rand(10)"
   ]
  },
  {
   "cell_type": "code",
   "execution_count": 3,
   "metadata": {
    "ExecuteTime": {
     "end_time": "2021-04-21T13:42:58.807062Z",
     "start_time": "2021-04-21T13:42:58.801078Z"
    }
   },
   "outputs": [],
   "source": [
    "def cosine_similarity(a, b):\n",
    "    if a.size != b.size:\n",
    "        raise Exception(\"The size of A and B need to be the same.\")\n",
    "        \n",
    "    return a.dot(b) / (np.sqrt(np.sum(a ** 2)) * np.sqrt(np.sum(b ** 2)))"
   ]
  },
  {
   "cell_type": "code",
   "execution_count": 4,
   "metadata": {
    "ExecuteTime": {
     "end_time": "2021-04-21T13:42:58.816038Z",
     "start_time": "2021-04-21T13:42:58.808060Z"
    }
   },
   "outputs": [
    {
     "data": {
      "text/plain": [
       "0.7460294485526239"
      ]
     },
     "execution_count": 4,
     "metadata": {},
     "output_type": "execute_result"
    }
   ],
   "source": [
    "cosine_similarity(a, b)"
   ]
  },
  {
   "cell_type": "markdown",
   "metadata": {},
   "source": [
    "# Batch Normalization 前向計算"
   ]
  },
  {
   "cell_type": "code",
   "execution_count": 5,
   "metadata": {
    "ExecuteTime": {
     "end_time": "2021-04-21T13:42:58.923750Z",
     "start_time": "2021-04-21T13:42:58.817036Z"
    }
   },
   "outputs": [
    {
     "name": "stdout",
     "output_type": "stream",
     "text": [
      "tensor([[-1.3887,  0.0000],\n",
      "        [ 0.4629, -1.2247],\n",
      "        [ 0.9258,  1.2247]], grad_fn=<NativeBatchNormBackward>)\n"
     ]
    }
   ],
   "source": [
    "test_data = np.array([1, 7, 5, 4, 6, 10]).reshape((3, 2))\n",
    "test_data_torch = torch.FloatTensor(test_data)\n",
    "\n",
    "bn = torch.nn.BatchNorm1d(2)\n",
    "print(bn(test_data_torch))"
   ]
  },
  {
   "cell_type": "code",
   "execution_count": 6,
   "metadata": {
    "ExecuteTime": {
     "end_time": "2021-04-21T13:42:58.929734Z",
     "start_time": "2021-04-21T13:42:58.924748Z"
    }
   },
   "outputs": [],
   "source": [
    "def batch_normalisation(data):\n",
    "    return (data - np.mean(data, axis=0)) / (np.sqrt(np.var(data, axis=0)))"
   ]
  },
  {
   "cell_type": "code",
   "execution_count": 7,
   "metadata": {
    "ExecuteTime": {
     "end_time": "2021-04-21T13:42:58.936715Z",
     "start_time": "2021-04-21T13:42:58.931729Z"
    }
   },
   "outputs": [
    {
     "data": {
      "text/plain": [
       "array([[-1.38873015,  0.        ],\n",
       "       [ 0.46291005, -1.22474487],\n",
       "       [ 0.9258201 ,  1.22474487]])"
      ]
     },
     "execution_count": 7,
     "metadata": {},
     "output_type": "execute_result"
    }
   ],
   "source": [
    "batch_normalisation(test_data)"
   ]
  },
  {
   "cell_type": "code",
   "execution_count": null,
   "metadata": {},
   "outputs": [],
   "source": []
  }
 ],
 "metadata": {
  "kernelspec": {
   "display_name": "Python 3",
   "language": "python",
   "name": "python3"
  },
  "language_info": {
   "codemirror_mode": {
    "name": "ipython",
    "version": 3
   },
   "file_extension": ".py",
   "mimetype": "text/x-python",
   "name": "python",
   "nbconvert_exporter": "python",
   "pygments_lexer": "ipython3",
   "version": "3.8.5"
  },
  "toc": {
   "base_numbering": 1,
   "nav_menu": {},
   "number_sections": true,
   "sideBar": true,
   "skip_h1_title": false,
   "title_cell": "Table of Contents",
   "title_sidebar": "Contents",
   "toc_cell": false,
   "toc_position": {},
   "toc_section_display": true,
   "toc_window_display": false
  },
  "varInspector": {
   "cols": {
    "lenName": 16,
    "lenType": 16,
    "lenVar": 40
   },
   "kernels_config": {
    "python": {
     "delete_cmd_postfix": "",
     "delete_cmd_prefix": "del ",
     "library": "var_list.py",
     "varRefreshCmd": "print(var_dic_list())"
    },
    "r": {
     "delete_cmd_postfix": ") ",
     "delete_cmd_prefix": "rm(",
     "library": "var_list.r",
     "varRefreshCmd": "cat(var_dic_list()) "
    }
   },
   "types_to_exclude": [
    "module",
    "function",
    "builtin_function_or_method",
    "instance",
    "_Feature"
   ],
   "window_display": false
  }
 },
 "nbformat": 4,
 "nbformat_minor": 4
}
