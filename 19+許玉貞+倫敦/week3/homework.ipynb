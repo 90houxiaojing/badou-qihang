{
 "cells": [
  {
   "cell_type": "code",
   "execution_count": 1,
   "metadata": {
    "ExecuteTime": {
     "end_time": "2021-05-05T20:56:40.559136Z",
     "start_time": "2021-05-05T20:56:40.545174Z"
    }
   },
   "outputs": [],
   "source": [
    "Dict = {\"经常\":0.1,\n",
    "        \"经\":0.05,\n",
    "        \"有\":0.1,\n",
    "        \"常\":0.001,\n",
    "        \"有意见\":0.1,\n",
    "        \"歧\":0.001,\n",
    "        \"意见\":0.2,\n",
    "        \"分歧\":0.2,\n",
    "        \"见\":0.05,\n",
    "        \"意\":0.05,\n",
    "        \"见分歧\":0.05,\n",
    "        \"分\":0.1}\n",
    "\n",
    "sentence = \"经常有意见分歧\"\n"
   ]
  },
  {
   "cell_type": "code",
   "execution_count": 2,
   "metadata": {
    "ExecuteTime": {
     "end_time": "2021-05-05T20:56:40.574096Z",
     "start_time": "2021-05-05T20:56:40.560133Z"
    }
   },
   "outputs": [],
   "source": [
    "def get_words(sentences, dictionary, max_len, words, start_idx, result):\n",
    "    if start_idx == len(sentences):\n",
    "        result.append(words)\n",
    "        return\n",
    "    remaining_word = sentences[start_idx:]\n",
    "    block_len = min(max_len, len(remaining_word))\n",
    "    for i in range(block_len, 0, -1):\n",
    "        if i == 1 or remaining_word[:i] in dictionary:\n",
    "            new_words = words.copy()\n",
    "            new_words.append(remaining_word[:i])\n",
    "            get_words(sentences, dictionary, max_len, new_words, start_idx + i, result)"
   ]
  },
  {
   "cell_type": "code",
   "execution_count": 3,
   "metadata": {
    "ExecuteTime": {
     "end_time": "2021-05-05T20:56:40.589056Z",
     "start_time": "2021-05-05T20:56:40.575093Z"
    }
   },
   "outputs": [],
   "source": [
    "result = []\n",
    "get_words(sentence, Dict, 3, [], 0, result)"
   ]
  },
  {
   "cell_type": "code",
   "execution_count": 4,
   "metadata": {
    "ExecuteTime": {
     "end_time": "2021-05-05T20:56:40.605013Z",
     "start_time": "2021-05-05T20:56:40.590053Z"
    },
    "scrolled": true
   },
   "outputs": [
    {
     "data": {
      "text/plain": [
       "[['经常', '有意见', '分歧'],\n",
       " ['经常', '有意见', '分', '歧'],\n",
       " ['经常', '有', '意见', '分歧'],\n",
       " ['经常', '有', '意见', '分', '歧'],\n",
       " ['经常', '有', '意', '见分歧'],\n",
       " ['经常', '有', '意', '见', '分歧'],\n",
       " ['经常', '有', '意', '见', '分', '歧'],\n",
       " ['经', '常', '有意见', '分歧'],\n",
       " ['经', '常', '有意见', '分', '歧'],\n",
       " ['经', '常', '有', '意见', '分歧'],\n",
       " ['经', '常', '有', '意见', '分', '歧'],\n",
       " ['经', '常', '有', '意', '见分歧'],\n",
       " ['经', '常', '有', '意', '见', '分歧'],\n",
       " ['经', '常', '有', '意', '见', '分', '歧']]"
      ]
     },
     "execution_count": 4,
     "metadata": {},
     "output_type": "execute_result"
    }
   ],
   "source": [
    "result"
   ]
  },
  {
   "cell_type": "code",
   "execution_count": null,
   "metadata": {},
   "outputs": [],
   "source": []
  }
 ],
 "metadata": {
  "kernelspec": {
   "display_name": "Python 3",
   "language": "python",
   "name": "python3"
  },
  "language_info": {
   "codemirror_mode": {
    "name": "ipython",
    "version": 3
   },
   "file_extension": ".py",
   "mimetype": "text/x-python",
   "name": "python",
   "nbconvert_exporter": "python",
   "pygments_lexer": "ipython3",
   "version": "3.8.5"
  },
  "toc": {
   "base_numbering": 1,
   "nav_menu": {},
   "number_sections": true,
   "sideBar": true,
   "skip_h1_title": false,
   "title_cell": "Table of Contents",
   "title_sidebar": "Contents",
   "toc_cell": false,
   "toc_position": {},
   "toc_section_display": true,
   "toc_window_display": false
  },
  "varInspector": {
   "cols": {
    "lenName": 16,
    "lenType": 16,
    "lenVar": 40
   },
   "kernels_config": {
    "python": {
     "delete_cmd_postfix": "",
     "delete_cmd_prefix": "del ",
     "library": "var_list.py",
     "varRefreshCmd": "print(var_dic_list())"
    },
    "r": {
     "delete_cmd_postfix": ") ",
     "delete_cmd_prefix": "rm(",
     "library": "var_list.r",
     "varRefreshCmd": "cat(var_dic_list()) "
    }
   },
   "types_to_exclude": [
    "module",
    "function",
    "builtin_function_or_method",
    "instance",
    "_Feature"
   ],
   "window_display": false
  }
 },
 "nbformat": 4,
 "nbformat_minor": 4
}
